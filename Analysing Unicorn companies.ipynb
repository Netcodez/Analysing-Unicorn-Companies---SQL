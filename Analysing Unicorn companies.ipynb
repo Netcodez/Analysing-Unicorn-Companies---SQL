{
  "cells": [
    {
      "source": [
        "Did you know that the average return from investing in stocks is [10% per year](https://www.nerdwallet.com/article/investing/average-stock-market-return) (not accounting for inflation)? But who wants to be average?!\n",
        "\n",
        "Investment firms need support by analyzing trends in high-growth companies. They are interested in understanding which industries are producing the highest valuations and the rate at which new high-value companies are emerging. Providing them with this information gives them a competitive insight as to industry trends and how they should structure their portfolio looking forward.\n",
        "\n",
        "This is stored in a PostgreSQL database, which contains the following tables:\n",
        "\n",
        "## dates\n",
        "| Column       | Description                                  |\n",
        "|------------- |--------------------------------------------- |\n",
        "| `company_id`   | A unique ID for the company.                 |\n",
        "| `date_joined` | The date that the company became a unicorn.  |\n",
        "| `year_founded` | The year that the company was founded.       |\n",
        "\n",
        "## funding\n",
        "| Column           | Description                                  |\n",
        "|----------------- |--------------------------------------------- |\n",
        "| `company_id`       | A unique ID for the company.                 |\n",
        "| `valuation`        | Company value in US dollars.                 |\n",
        "| `funding`          | The amount of funding raised in US dollars.  |\n",
        "| `select_investors` | A list of key investors in the company.      |\n",
        "\n",
        "## industries\n",
        "| Column       | Description                                  |\n",
        "|------------- |--------------------------------------------- |\n",
        "| `company_id`   | A unique ID for the company.                 |\n",
        "| `industry`     | The industry that the company operates in.   |\n",
        "\n",
        "## companies\n",
        "| Column       | Description                                       |\n",
        "|------------- |-------------------------------------------------- |\n",
        "| `company_id`   | A unique ID for the company.                      |\n",
        "| `company`      | The name of the company.                          |\n",
        "| `city`         | The city where the company is headquartered.      |\n",
        "| `country`      | The country where the company is headquartered.   |\n",
        "| `continent`    | The continent where the company is headquartered. |\n"
      ],
      "metadata": {
        "id": "33dda299-ad0e-4262-b285-7d1297a3ba66"
      },
      "id": "33dda299-ad0e-4262-b285-7d1297a3ba66",
      "cell_type": "markdown"
    },
    {
      "source": [
        "# The output\n",
        "\n",
        "The query would return a table in the following format:\n",
        "| industry  | year | num\\_unicorns       | average\\_valuation\\_billions |\n",
        "| --------- | ---- | ------------------- | ---------------------------- |\n",
        "| industry1 | 2021 |        ---          |             ---              |\n",
        "| industry2 | 2020 |        ---          |             ---              |\n",
        "| industry3 | 2019 |        ---          |             ---              |\n",
        "| industry1 | 2021 |        ---          |             ---              |\n",
        "| industry2 | 2020 |        ---          |             ---              |\n",
        "| industry3 | 2019 |        ---          |             ---              |\n",
        "| industry1 | 2021 |        ---          |             ---              |\n",
        "| industry2 | 2020 |        ---          |             ---              |\n",
        "| industry3 | 2019 |        ---          |             ---              |\n",
        "\n",
        "Where `industry1`, `industry2`, and `industry3` are the three top-performing industries."
      ],
      "metadata": {
        "id": "48a34f18-9207-4a1d-9c91-0b1a4aec770d"
      },
      "id": "48a34f18-9207-4a1d-9c91-0b1a4aec770d",
      "cell_type": "markdown"
    },
    {
      "source": [
        "WITH top_unicorns AS\n",
        "(\n",
        "    SELECT\n",
        "        industry,\n",
        "        EXTRACT(YEAR FROM d.date_joined) AS year,\n",
        "        COUNT(DISTINCT d.company_id) AS num_unicorns,\n",
        "        ROUND(AVG(f.valuation)/1000000000, 2) AS average_valuation_billions\n",
        "\n",
        "    FROM industries AS i\n",
        "    INNER JOIN dates AS d ON i.company_id = d.company_id\n",
        "    INNER JOIN funding AS f ON d.company_id = f.company_id\n",
        "    WHERE EXTRACT(YEAR FROM d.date_joined) IN ('2019', '2020', '2021')\n",
        "    GROUP BY industry, year\n",
        "    ORDER BY num_unicorns DESC\n",
        ")\n",
        "\n",
        "\n",
        "SELECT industry,year,num_unicorns, average_valuation_billions\n",
        "FROM top_unicorns\n",
        "WHERE industry in (\n",
        "\tSELECT i.industry\n",
        "\tFROM industries AS i\n",
        "\tINNER JOIN dates AS d\n",
        "\t\tON i.company_id = d.company_id\n",
        "\tWHERE EXTRACT(YEAR FROM d.date_joined) IN ('2019', '2020', '2021')\n",
        "\tGROUP BY i.industry\n",
        "\tORDER BY COUNT(*) DESC\n",
        "\tLIMIT 3\n",
        ")\n",
        "ORDER BY year\n"
      ],
      "metadata": {
        "customType": "sql",
        "dataFrameVariableName": "df",
        "sqlCellMode": "dataFrame",
        "sqlSource": {
          "integrationId": "89e17161-a224-4a8a-846b-0adc0fe7a4b1",
          "type": "integration"
        },
        "executionCancelledAt": null,
        "executionTime": 755,
        "lastExecutedAt": 1698588142554,
        "lastScheduledRunId": null,
        "lastSuccessfullyExecutedCode": "WITH top_unicorns AS \n(\n    SELECT \n        industry,\n        EXTRACT(YEAR FROM d.date_joined) AS year,\n        COUNT(DISTINCT d.company_id) AS num_unicorns,\n        ROUND(AVG(f.valuation)/1000000000, 2) AS average_valuation_billions\n\t\t\n    FROM industries AS i\n    INNER JOIN dates AS d ON i.company_id = d.company_id\n    INNER JOIN funding AS f ON d.company_id = f.company_id\n    WHERE EXTRACT(YEAR FROM d.date_joined) IN ('2019', '2020', '2021')\n    GROUP BY industry, year\n    ORDER BY num_unicorns DESC\n)\n\n\nSELECT industry,year,num_unicorns, average_valuation_billions\nFROM top_unicorns\nWHERE industry in (\n\tSELECT i.industry\t\t\t\n\tFROM industries AS i\n\tINNER JOIN dates AS d\n\t\tON i.company_id = d.company_id\n\tWHERE EXTRACT(YEAR FROM d.date_joined) IN ('2019', '2020', '2021')\n\tGROUP BY i.industry\n\tORDER BY COUNT(*) DESC\n\tLIMIT 3\n)\nORDER BY year\n",
        "outputsMetadata": {
          "0": {
            "height": 337,
            "type": "dataFrame"
          }
        },
        "id": "8d7d8de9-5da9-4b35-bc60-9f0502eb56d6",
        "outputId": "4ddbbf49-16b7-40f2-f50a-a24c23fcb664"
      },
      "id": "8d7d8de9-5da9-4b35-bc60-9f0502eb56d6",
      "cell_type": "code",
      "execution_count": null,
      "outputs": [
        {
          "output_type": "execute_result",
          "data": {
            "application/com.datacamp.data-table.v1+json": {
              "table": {
                "schema": {
                  "fields": [
                    {
                      "name": "index",
                      "type": "integer"
                    },
                    {
                      "name": "industry",
                      "type": "string"
                    },
                    {
                      "name": "year",
                      "type": "integer"
                    },
                    {
                      "name": "num_unicorns",
                      "type": "integer"
                    },
                    {
                      "name": "average_valuation_billions",
                      "type": "number"
                    }
                  ],
                  "primaryKey": [
                    "index"
                  ],
                  "pandas_version": "1.4.0"
                },
                "data": [
                  {
                    "index": 0,
                    "industry": "E-commerce & direct-to-consumer",
                    "year": 2019,
                    "num_unicorns": 12,
                    "average_valuation_billions": 2.58
                  },
                  {
                    "index": 1,
                    "industry": "Fintech",
                    "year": 2019,
                    "num_unicorns": 20,
                    "average_valuation_billions": 6.8
                  },
                  {
                    "index": 2,
                    "industry": "Internet software & services",
                    "year": 2019,
                    "num_unicorns": 13,
                    "average_valuation_billions": 4.23
                  },
                  {
                    "index": 3,
                    "industry": "Internet software & services",
                    "year": 2020,
                    "num_unicorns": 20,
                    "average_valuation_billions": 4.35
                  },
                  {
                    "index": 4,
                    "industry": "E-commerce & direct-to-consumer",
                    "year": 2020,
                    "num_unicorns": 16,
                    "average_valuation_billions": 4
                  },
                  {
                    "index": 5,
                    "industry": "Fintech",
                    "year": 2020,
                    "num_unicorns": 15,
                    "average_valuation_billions": 4.33
                  },
                  {
                    "index": 6,
                    "industry": "Fintech",
                    "year": 2021,
                    "num_unicorns": 138,
                    "average_valuation_billions": 2.75
                  },
                  {
                    "index": 7,
                    "industry": "Internet software & services",
                    "year": 2021,
                    "num_unicorns": 119,
                    "average_valuation_billions": 2.15
                  },
                  {
                    "index": 8,
                    "industry": "E-commerce & direct-to-consumer",
                    "year": 2021,
                    "num_unicorns": 47,
                    "average_valuation_billions": 2.47
                  }
                ]
              },
              "total_rows": 9,
              "truncation_type": null
            },
            "text/plain": "                          industry  ...  average_valuation_billions\n0  E-commerce & direct-to-consumer  ...                        2.58\n1                          Fintech  ...                        6.80\n2     Internet software & services  ...                        4.23\n3     Internet software & services  ...                        4.35\n4  E-commerce & direct-to-consumer  ...                        4.00\n5                          Fintech  ...                        4.33\n6                          Fintech  ...                        2.75\n7     Internet software & services  ...                        2.15\n8  E-commerce & direct-to-consumer  ...                        2.47\n\n[9 rows x 4 columns]",
            "text/html": "<div>\n<style scoped>\n    .dataframe tbody tr th:only-of-type {\n        vertical-align: middle;\n    }\n\n    .dataframe tbody tr th {\n        vertical-align: top;\n    }\n\n    .dataframe thead th {\n        text-align: right;\n    }\n</style>\n<table border=\"1\" class=\"dataframe\">\n  <thead>\n    <tr style=\"text-align: right;\">\n      <th></th>\n      <th>industry</th>\n      <th>year</th>\n      <th>num_unicorns</th>\n      <th>average_valuation_billions</th>\n    </tr>\n  </thead>\n  <tbody>\n    <tr>\n      <th>0</th>\n      <td>E-commerce &amp; direct-to-consumer</td>\n      <td>2019</td>\n      <td>12</td>\n      <td>2.58</td>\n    </tr>\n    <tr>\n      <th>1</th>\n      <td>Fintech</td>\n      <td>2019</td>\n      <td>20</td>\n      <td>6.80</td>\n    </tr>\n    <tr>\n      <th>2</th>\n      <td>Internet software &amp; services</td>\n      <td>2019</td>\n      <td>13</td>\n      <td>4.23</td>\n    </tr>\n    <tr>\n      <th>3</th>\n      <td>Internet software &amp; services</td>\n      <td>2020</td>\n      <td>20</td>\n      <td>4.35</td>\n    </tr>\n    <tr>\n      <th>4</th>\n      <td>E-commerce &amp; direct-to-consumer</td>\n      <td>2020</td>\n      <td>16</td>\n      <td>4.00</td>\n    </tr>\n    <tr>\n      <th>5</th>\n      <td>Fintech</td>\n      <td>2020</td>\n      <td>15</td>\n      <td>4.33</td>\n    </tr>\n    <tr>\n      <th>6</th>\n      <td>Fintech</td>\n      <td>2021</td>\n      <td>138</td>\n      <td>2.75</td>\n    </tr>\n    <tr>\n      <th>7</th>\n      <td>Internet software &amp; services</td>\n      <td>2021</td>\n      <td>119</td>\n      <td>2.15</td>\n    </tr>\n    <tr>\n      <th>8</th>\n      <td>E-commerce &amp; direct-to-consumer</td>\n      <td>2021</td>\n      <td>47</td>\n      <td>2.47</td>\n    </tr>\n  </tbody>\n</table>\n</div>"
          },
          "metadata": {},
          "execution_count": 112,
          "@datacamp/metadata": {
            "executedQuery": "WITH top_unicorns AS \n(\n    SELECT \n        industry,\n        EXTRACT(YEAR FROM d.date_joined) AS year,\n        COUNT(DISTINCT d.company_id) AS num_unicorns,\n        ROUND(AVG(f.valuation)/1000000000, 2) AS average_valuation_billions\n\t\t\n    FROM industries AS i\n    INNER JOIN dates AS d ON i.company_id = d.company_id\n    INNER JOIN funding AS f ON d.company_id = f.company_id\n    WHERE EXTRACT(YEAR FROM d.date_joined) IN ('2019', '2020', '2021')\n    GROUP BY industry, year\n    ORDER BY num_unicorns DESC\n)\n\n\nSELECT industry,year,num_unicorns, average_valuation_billions\nFROM top_unicorns\nWHERE industry in (\n\tSELECT i.industry\t\t\t\n\tFROM industries AS i\n\tINNER JOIN dates AS d\n\t\tON i.company_id = d.company_id\n\tWHERE EXTRACT(YEAR FROM d.date_joined) IN ('2019', '2020', '2021')\n\tGROUP BY i.industry\n\tORDER BY COUNT(*) DESC\n\tLIMIT 3\n)\nORDER BY year",
            "executedQueryParameters": []
          }
        }
      ]
    }
  ],
  "metadata": {
    "colab": {
      "provenance": []
    },
    "kernelspec": {
      "display_name": "Python 3 (ipykernel)",
      "language": "python",
      "name": "python3"
    },
    "language_info": {
      "codemirror_mode": {
        "name": "ipython",
        "version": 3
      },
      "file_extension": ".py",
      "mimetype": "text/x-python",
      "name": "python",
      "nbconvert_exporter": "python",
      "pygments_lexer": "ipython3",
      "version": "3.8.10"
    }
  },
  "nbformat": 4,
  "nbformat_minor": 5
}